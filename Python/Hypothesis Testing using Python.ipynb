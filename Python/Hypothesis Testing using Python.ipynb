{
 "cells": [
  {
   "cell_type": "markdown",
   "metadata": {},
   "source": [
    "## T- test"
   ]
  },
  {
   "cell_type": "code",
   "execution_count": null,
   "metadata": {},
   "outputs": [],
   "source": [
    "# References: https://machinelearningmastery.com/how-to-code-the-students-t-test-from-scratch-in-python/"
   ]
  },
  {
   "cell_type": "raw",
   "metadata": {},
   "source": [
    "Two types of Tests\n",
    "Independent Samples \n",
    "Dependent Samples (Paired  T-test)\n",
    "\n",
    "Assumptions:\n",
    "\t- Both samples were drawn from a Gaussian ditribution\n",
    "\t- Samples have same variance\n",
    "    - Samples are of approx. same sizes"
   ]
  },
  {
   "cell_type": "markdown",
   "metadata": {},
   "source": [
    "#### Student’s t-Test for Independent Samples"
   ]
  },
  {
   "cell_type": "code",
   "execution_count": 34,
   "metadata": {},
   "outputs": [
    {
     "name": "stdout",
     "output_type": "stream",
     "text": [
      "-2.2620139704259556 1.6525857836172075 0.024782819014639745\n"
     ]
    },
    {
     "data": {
      "text/plain": [
       "Ttest_indResult(statistic=-2.2620139704259556, pvalue=0.024782819014639627)"
      ]
     },
     "execution_count": 34,
     "metadata": {},
     "output_type": "execute_result"
    }
   ],
   "source": [
    "# Comparing means of two samples\n",
    "# Calulate the T-statistic\n",
    "# t= (observed difference between samples)/(Standard error of difference between the means)\n",
    "# i.e. t = (mean(X1)-mean(X2))/sed\n",
    "# where, sed = sqrt(se1^2 + se2^2)\n",
    "#       standard error (se) = (standard deviation)/sqrt(n)\n",
    "\n",
    "#let's put these things in the form of code\n",
    "#Import the required packages/functions\n",
    "\n",
    "from numpy.random import randn,seed\n",
    "import numpy as np\n",
    "from scipy.stats import sem\n",
    "from scipy.stats import t\n",
    "from scipy.stats import ttest_ind\n",
    "\n",
    "seed(1)\n",
    "\n",
    "#Random data\n",
    "n=100\n",
    "X1 = 5 * randn(n) + 50\n",
    "X2 = 5 * randn(n) + 51\n",
    "\n",
    "#Find the diff. b/w means\n",
    "mean_diff = np.mean(X1) - np.mean(X2)\n",
    "\n",
    "#Find Standard errors\n",
    "se1, se2 = np.std(X1,ddof=1)/np.sqrt(n) , np.std(X2,ddof=1)/np.sqrt(n) \n",
    "\n",
    "sed = np.sqrt(se1 **2.0 + se2**2.0)\n",
    "\n",
    "#Calulate t-statistic\n",
    "t_stat = mean_diff/sed\n",
    "\n",
    "#Degrees of freedom\n",
    "df = len(X1) + len(X2) - 2\n",
    "\n",
    "#Significance level\n",
    "alpha = 0.05\n",
    "\n",
    "#Find critical value\n",
    "cv = t.ppf(1.0 - alpha,df) \n",
    "\n",
    "#find p-value\n",
    "p = (1.0 - t.cdf(abs(t_stat),df)) * 2.0\n",
    "print(t_stat,cv,p)\n",
    "\n",
    "#help(ttest_ind)\n",
    "ttest_ind(X1,X2)"
   ]
  },
  {
   "cell_type": "code",
   "execution_count": 36,
   "metadata": {},
   "outputs": [
    {
     "name": "stdout",
     "output_type": "stream",
     "text": [
      "Help on function var in module numpy.core.fromnumeric:\n",
      "\n",
      "var(a, axis=None, dtype=None, out=None, ddof=0, keepdims=<class 'numpy._globals._NoValue'>)\n",
      "    Compute the variance along the specified axis.\n",
      "    \n",
      "    Returns the variance of the array elements, a measure of the spread of a\n",
      "    distribution.  The variance is computed for the flattened array by\n",
      "    default, otherwise over the specified axis.\n",
      "    \n",
      "    Parameters\n",
      "    ----------\n",
      "    a : array_like\n",
      "        Array containing numbers whose variance is desired.  If `a` is not an\n",
      "        array, a conversion is attempted.\n",
      "    axis : None or int or tuple of ints, optional\n",
      "        Axis or axes along which the variance is computed.  The default is to\n",
      "        compute the variance of the flattened array.\n",
      "    \n",
      "        .. versionadded:: 1.7.0\n",
      "    \n",
      "        If this is a tuple of ints, a variance is performed over multiple axes,\n",
      "        instead of a single axis or all the axes as before.\n",
      "    dtype : data-type, optional\n",
      "        Type to use in computing the variance.  For arrays of integer type\n",
      "        the default is `float32`; for arrays of float types it is the same as\n",
      "        the array type.\n",
      "    out : ndarray, optional\n",
      "        Alternate output array in which to place the result.  It must have\n",
      "        the same shape as the expected output, but the type is cast if\n",
      "        necessary.\n",
      "    ddof : int, optional\n",
      "        \"Delta Degrees of Freedom\": the divisor used in the calculation is\n",
      "        ``N - ddof``, where ``N`` represents the number of elements. By\n",
      "        default `ddof` is zero.\n",
      "    keepdims : bool, optional\n",
      "        If this is set to True, the axes which are reduced are left\n",
      "        in the result as dimensions with size one. With this option,\n",
      "        the result will broadcast correctly against the input array.\n",
      "    \n",
      "        If the default value is passed, then `keepdims` will not be\n",
      "        passed through to the `var` method of sub-classes of\n",
      "        `ndarray`, however any non-default value will be.  If the\n",
      "        sub-classes `sum` method does not implement `keepdims` any\n",
      "        exceptions will be raised.\n",
      "    \n",
      "    Returns\n",
      "    -------\n",
      "    variance : ndarray, see dtype parameter above\n",
      "        If ``out=None``, returns a new array containing the variance;\n",
      "        otherwise, a reference to the output array is returned.\n",
      "    \n",
      "    See Also\n",
      "    --------\n",
      "    std , mean, nanmean, nanstd, nanvar\n",
      "    numpy.doc.ufuncs : Section \"Output arguments\"\n",
      "    \n",
      "    Notes\n",
      "    -----\n",
      "    The variance is the average of the squared deviations from the mean,\n",
      "    i.e.,  ``var = mean(abs(x - x.mean())**2)``.\n",
      "    \n",
      "    The mean is normally calculated as ``x.sum() / N``, where ``N = len(x)``.\n",
      "    If, however, `ddof` is specified, the divisor ``N - ddof`` is used\n",
      "    instead.  In standard statistical practice, ``ddof=1`` provides an\n",
      "    unbiased estimator of the variance of a hypothetical infinite population.\n",
      "    ``ddof=0`` provides a maximum likelihood estimate of the variance for\n",
      "    normally distributed variables.\n",
      "    \n",
      "    Note that for complex numbers, the absolute value is taken before\n",
      "    squaring, so that the result is always real and nonnegative.\n",
      "    \n",
      "    For floating-point input, the variance is computed using the same\n",
      "    precision the input has.  Depending on the input data, this can cause\n",
      "    the results to be inaccurate, especially for `float32` (see example\n",
      "    below).  Specifying a higher-accuracy accumulator using the ``dtype``\n",
      "    keyword can alleviate this issue.\n",
      "    \n",
      "    Examples\n",
      "    --------\n",
      "    >>> a = np.array([[1, 2], [3, 4]])\n",
      "    >>> np.var(a)\n",
      "    1.25\n",
      "    >>> np.var(a, axis=0)\n",
      "    array([ 1.,  1.])\n",
      "    >>> np.var(a, axis=1)\n",
      "    array([ 0.25,  0.25])\n",
      "    \n",
      "    In single precision, var() can be inaccurate:\n",
      "    \n",
      "    >>> a = np.zeros((2, 512*512), dtype=np.float32)\n",
      "    >>> a[0, :] = 1.0\n",
      "    >>> a[1, :] = 0.1\n",
      "    >>> np.var(a)\n",
      "    0.20250003\n",
      "    \n",
      "    Computing the variance in float64 is more accurate:\n",
      "    \n",
      "    >>> np.var(a, dtype=np.float64)\n",
      "    0.20249999932944759\n",
      "    >>> ((1-0.55)**2 + (0.1-0.55)**2)/2\n",
      "    0.2025\n",
      "\n"
     ]
    }
   ],
   "source": [
    "help(np.var)"
   ]
  }
 ],
 "metadata": {
  "kernelspec": {
   "display_name": "Python 3",
   "language": "python",
   "name": "python3"
  },
  "language_info": {
   "codemirror_mode": {
    "name": "ipython",
    "version": 3
   },
   "file_extension": ".py",
   "mimetype": "text/x-python",
   "name": "python",
   "nbconvert_exporter": "python",
   "pygments_lexer": "ipython3",
   "version": "3.6.4"
  }
 },
 "nbformat": 4,
 "nbformat_minor": 2
}
