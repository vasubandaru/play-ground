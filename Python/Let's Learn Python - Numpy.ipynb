{
 "cells": [
  {
   "cell_type": "code",
   "execution_count": 1,
   "metadata": {},
   "outputs": [],
   "source": [
    "# Useful for Arrays and Basic numerical,statistical, Linear algebra functions\n",
    "import numpy as np"
   ]
  },
  {
   "cell_type": "code",
   "execution_count": 3,
   "metadata": {},
   "outputs": [
    {
     "data": {
      "text/plain": [
       "array([[1, 2],\n",
       "       [3, 4],\n",
       "       [5, 6]])"
      ]
     },
     "execution_count": 3,
     "metadata": {},
     "output_type": "execute_result"
    }
   ],
   "source": [
    "# Elements are of same type, Indexed by tupels\n",
    "a = np.array([[1,2],[3,4],[5,6]])\n",
    "a"
   ]
  },
  {
   "cell_type": "code",
   "execution_count": 54,
   "metadata": {
    "scrolled": true
   },
   "outputs": [
    {
     "name": "stdout",
     "output_type": "stream",
     "text": [
      "[[1 2]\n",
      " [3 4]\n",
      " [5 6]]\n",
      "[[1. 2.]\n",
      " [3. 4.]\n",
      " [5. 6.]]\n",
      "[[1.+0.j 2.+0.j]\n",
      " [3.+0.j 4.+0.j]\n",
      " [5.+0.j 6.+0.j]]\n",
      "[[0. 0. 0. 0.]\n",
      " [0. 0. 0. 0.]]\n",
      "[[1. 1. 1. 1.]\n",
      " [1. 1. 1. 1.]]\n",
      "[[1. 1. 1. 1.]\n",
      " [1. 1. 1. 1.]]\n",
      "[[1. 0. 0. 0.]\n",
      " [0. 1. 0. 0.]\n",
      " [0. 0. 1. 0.]\n",
      " [0. 0. 0. 1.]]\n",
      "[[1. 0. 0. 0.]\n",
      " [0. 1. 0. 0.]]\n"
     ]
    }
   ],
   "source": [
    "### Alternative ways\n",
    "\n",
    "#1\n",
    "a = np.array(((1,2),(3,4),(5,6)))\n",
    "print(a)\n",
    "\n",
    "#2\n",
    "a = np.array([[1,2],[3,4],[5,6]],dtype=float)\n",
    "print(a)\n",
    "\n",
    "#3\n",
    "a = np.array([[1,2],[3,4],[5,6]],dtype=complex)\n",
    "print(a)\n",
    "\n",
    "#4\n",
    "a = np.zeros((2,4))\n",
    "print(a)\n",
    "\n",
    "#5\n",
    "a = np.ones((2,4))\n",
    "print(a)\n",
    "\n",
    "#6\n",
    "a = np.empty((2,4))\n",
    "print(a)\n",
    "\n",
    "\n",
    "#7\n",
    "a = np.identity(4)\n",
    "print(a)\n",
    "\n",
    "\n",
    "#8\n",
    "a = np.eye(2,4)\n",
    "print(a)"
   ]
  },
  {
   "cell_type": "code",
   "execution_count": 29,
   "metadata": {},
   "outputs": [
    {
     "name": "stdout",
     "output_type": "stream",
     "text": [
      "[[1. 1. 1. 1.]\n",
      " [1. 1. 1. 1.]]\n",
      "2\n",
      "(2, 4)\n",
      "8\n",
      "float64\n",
      "[[[1. 1. 1. 1.]\n",
      "  [1. 1. 1. 1.]\n",
      "  [1. 1. 1. 1.]\n",
      "  [1. 1. 1. 1.]]\n",
      "\n",
      " [[1. 1. 1. 1.]\n",
      "  [1. 1. 1. 1.]\n",
      "  [1. 1. 1. 1.]\n",
      "  [1. 1. 1. 1.]]]\n",
      "3\n",
      "(2, 4, 4)\n",
      "32\n",
      "float64\n"
     ]
    }
   ],
   "source": [
    "a = np.ones((2,4))\n",
    "print(a)\n",
    "print(a.ndim)\n",
    "print(a.shape)\n",
    "print(a.size)\n",
    "print(a.dtype)\n",
    "\n",
    "a = np.ones((2,4,4))\n",
    "print(a)\n",
    "print(a.ndim)\n",
    "print(a.shape)\n",
    "print(a.size)\n",
    "print(a.dtype)"
   ]
  },
  {
   "cell_type": "code",
   "execution_count": 36,
   "metadata": {},
   "outputs": [
    {
     "name": "stdout",
     "output_type": "stream",
     "text": [
      "[[1. 1. 1. 1.]\n",
      " [1. 1. 1. 1.]]\n",
      "[[1. 1.]\n",
      " [1. 1.]\n",
      " [1. 1.]\n",
      " [1. 1.]]\n",
      "[[1. 1. 1. 1.]\n",
      " [1. 1. 1. 1.]]\n"
     ]
    }
   ],
   "source": [
    "a = np.ones((2,4))\n",
    "print(a)\n",
    "\n",
    "b = a.reshape(4,2)\n",
    "print(b)\n",
    "\n",
    "print(b.transpose())\n"
   ]
  },
  {
   "cell_type": "code",
   "execution_count": 48,
   "metadata": {
    "scrolled": true
   },
   "outputs": [
    {
     "name": "stdout",
     "output_type": "stream",
     "text": [
      "[[1 2]\n",
      " [3 4]\n",
      " [5 6]]\n",
      "[1 2]\n",
      "2\n",
      "[[1 2]\n",
      " [3 4]]\n",
      "[2 4]\n",
      "[[ 1  2 10 -3  9]\n",
      " [21 22 23 24 25]]\n",
      "[[  2  10  -3   9]\n",
      " [  4 100   0 -32]]\n",
      "[[323  10  -3   9]\n",
      " [  4 100   0 -32]]\n",
      "[[  1 323  10  -3   9]\n",
      " [  3   4 100   0 -32]\n",
      " [ 11  12  13  14  15]\n",
      " [ 21  22  23  24  25]]\n"
     ]
    }
   ],
   "source": [
    "## Indexing/Slicing \n",
    "#A[start:stop:step]\n",
    "\n",
    "a = np.array([[1,2],[3,4],[5,6]])\n",
    "print(a)\n",
    "\n",
    "print(a[0]) #Row\n",
    "print(a[0][1]) #Element\n",
    "print(a[0:2]) #Rows\n",
    "print(a[0:2,1]) #Rows and column\n",
    "\n",
    "a = np.array([[  1,   2,  10,  -3,   9],\n",
    "       [  3,   4, 100,   0, -32],\n",
    "       [ 11,  12,  13,  14,  15],\n",
    "       [ 21,  22,  23,  24,  25]])\n",
    "\n",
    "print(a[::3,])\n",
    "\n",
    "b = a[0:2,1:]\n",
    "print(b)\n",
    "\n",
    "b[0][0] = 323\n",
    "print(b)\n",
    "print(a)\n",
    "\n",
    "# Slicings on lists and tuples create new objects,\n",
    "# but slicing operation on an array creates a view on the original array"
   ]
  },
  {
   "cell_type": "code",
   "execution_count": 81,
   "metadata": {},
   "outputs": [
    {
     "name": "stdout",
     "output_type": "stream",
     "text": [
      "[[1 2]\n",
      " [3 4]\n",
      " [5 6]]\n",
      "\n",
      " Sine: \n",
      " [[ 0.84147098  0.90929743]\n",
      " [ 0.14112001 -0.7568025 ]\n",
      " [-0.95892427 -0.2794155 ]]\n",
      "\n",
      " Square root: \n",
      " [[1.         1.41421356]\n",
      " [1.73205081 2.        ]\n",
      " [2.23606798 2.44948974]]\n",
      "\n",
      " Log: \n",
      " [[0.         0.69314718]\n",
      " [1.09861229 1.38629436]\n",
      " [1.60943791 1.79175947]]\n",
      "\n",
      " Mean: \n",
      " 3.5\n",
      "\n",
      " variance: \n",
      " 2.9166666666666665\n",
      "\n",
      " Minimum: \n",
      " 1\n",
      "\n",
      " Maximum: \n",
      " 6\n",
      "\n",
      " Maximum of columns: \n",
      " [5 6]\n",
      "\n",
      " Maximum of rows: \n",
      " [2 4 6]\n"
     ]
    }
   ],
   "source": [
    "#Mathematical functions\n",
    "#a = np.array(range(1,10))\n",
    "#print(a)\n",
    "\n",
    "a= np.array([[1,2],[3,4],[5,6]])\n",
    "print(a)\n",
    "\n",
    "print(\"\\n Sine: \\n\",np.sin(a))\n",
    "print(\"\\n Square root: \\n\",np.sqrt(a))\n",
    "print(\"\\n Log: \\n\",np.log(a))\n",
    "print(\"\\n Mean: \\n\",np.mean(a))\n",
    "print(\"\\n variance: \\n\",np.var(a))\n",
    "print(\"\\n Minimum: \\n\",np.min(a))\n",
    "print(\"\\n Maximum: \\n\",np.max(a))\n",
    "print(\"\\n Maximum of columns: \\n\",np.max(a,axis=0))\n",
    "print(\"\\n Maximum of rows: \\n\",np.max(a,axis=1))"
   ]
  }
 ],
 "metadata": {
  "kernelspec": {
   "display_name": "Python 3",
   "language": "python",
   "name": "python3"
  },
  "language_info": {
   "codemirror_mode": {
    "name": "ipython",
    "version": 3
   },
   "file_extension": ".py",
   "mimetype": "text/x-python",
   "name": "python",
   "nbconvert_exporter": "python",
   "pygments_lexer": "ipython3",
   "version": "3.6.4"
  }
 },
 "nbformat": 4,
 "nbformat_minor": 2
}
